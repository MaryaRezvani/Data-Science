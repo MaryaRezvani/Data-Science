{
 "cells": [
  {
   "cell_type": "code",
   "execution_count": 1,
   "metadata": {},
   "outputs": [],
   "source": [
    "import pandas as pd\n",
    "import numpy as np\n",
    "import matplotlib.pyplot as plt\n",
    "import random"
   ]
  },
  {
   "cell_type": "code",
   "execution_count": 2,
   "metadata": {},
   "outputs": [
    {
     "data": {
      "text/html": [
       "<div>\n",
       "<style scoped>\n",
       "    .dataframe tbody tr th:only-of-type {\n",
       "        vertical-align: middle;\n",
       "    }\n",
       "\n",
       "    .dataframe tbody tr th {\n",
       "        vertical-align: top;\n",
       "    }\n",
       "\n",
       "    .dataframe thead th {\n",
       "        text-align: right;\n",
       "    }\n",
       "</style>\n",
       "<table border=\"1\" class=\"dataframe\">\n",
       "  <thead>\n",
       "    <tr style=\"text-align: right;\">\n",
       "      <th></th>\n",
       "      <th>user_id</th>\n",
       "      <th>timestamp</th>\n",
       "      <th>group</th>\n",
       "      <th>landing_page</th>\n",
       "      <th>converted</th>\n",
       "    </tr>\n",
       "  </thead>\n",
       "  <tbody>\n",
       "    <tr>\n",
       "      <th>0</th>\n",
       "      <td>851104</td>\n",
       "      <td>2017-01-21 22:11:48.556739</td>\n",
       "      <td>control</td>\n",
       "      <td>old_page</td>\n",
       "      <td>0</td>\n",
       "    </tr>\n",
       "    <tr>\n",
       "      <th>1</th>\n",
       "      <td>804228</td>\n",
       "      <td>2017-01-12 08:01:45.159739</td>\n",
       "      <td>control</td>\n",
       "      <td>old_page</td>\n",
       "      <td>0</td>\n",
       "    </tr>\n",
       "    <tr>\n",
       "      <th>2</th>\n",
       "      <td>661590</td>\n",
       "      <td>2017-01-11 16:55:06.154213</td>\n",
       "      <td>treatment</td>\n",
       "      <td>new_page</td>\n",
       "      <td>0</td>\n",
       "    </tr>\n",
       "    <tr>\n",
       "      <th>3</th>\n",
       "      <td>853541</td>\n",
       "      <td>2017-01-08 18:28:03.143765</td>\n",
       "      <td>treatment</td>\n",
       "      <td>new_page</td>\n",
       "      <td>0</td>\n",
       "    </tr>\n",
       "    <tr>\n",
       "      <th>4</th>\n",
       "      <td>864975</td>\n",
       "      <td>2017-01-21 01:52:26.210827</td>\n",
       "      <td>control</td>\n",
       "      <td>old_page</td>\n",
       "      <td>1</td>\n",
       "    </tr>\n",
       "  </tbody>\n",
       "</table>\n",
       "</div>"
      ],
      "text/plain": [
       "   user_id                   timestamp      group landing_page  converted\n",
       "0   851104  2017-01-21 22:11:48.556739    control     old_page          0\n",
       "1   804228  2017-01-12 08:01:45.159739    control     old_page          0\n",
       "2   661590  2017-01-11 16:55:06.154213  treatment     new_page          0\n",
       "3   853541  2017-01-08 18:28:03.143765  treatment     new_page          0\n",
       "4   864975  2017-01-21 01:52:26.210827    control     old_page          1"
      ]
     },
     "execution_count": 2,
     "metadata": {},
     "output_type": "execute_result"
    }
   ],
   "source": [
    "# AB Data = The impact of a new website page design on purchases\n",
    "\n",
    "df = pd.read_csv('ab_data.csv')\n",
    "df.head()"
   ]
  },
  {
   "cell_type": "code",
   "execution_count": 3,
   "metadata": {},
   "outputs": [
    {
     "data": {
      "text/plain": [
       "(294478, 5)"
      ]
     },
     "execution_count": 3,
     "metadata": {},
     "output_type": "execute_result"
    }
   ],
   "source": [
    "df.shape"
   ]
  },
  {
   "cell_type": "code",
   "execution_count": 4,
   "metadata": {},
   "outputs": [
    {
     "data": {
      "text/plain": [
       "0.11965919355605512"
      ]
     },
     "execution_count": 4,
     "metadata": {},
     "output_type": "execute_result"
    }
   ],
   "source": [
    "df['converted'].mean()"
   ]
  },
  {
   "cell_type": "code",
   "execution_count": 5,
   "metadata": {},
   "outputs": [
    {
     "data": {
      "text/plain": [
       "user_id         290584\n",
       "timestamp       294478\n",
       "group                2\n",
       "landing_page         2\n",
       "converted            2\n",
       "dtype: int64"
      ]
     },
     "execution_count": 5,
     "metadata": {},
     "output_type": "execute_result"
    }
   ],
   "source": [
    "df.nunique()"
   ]
  },
  {
   "cell_type": "code",
   "execution_count": 6,
   "metadata": {},
   "outputs": [
    {
     "data": {
      "text/html": [
       "<div>\n",
       "<style scoped>\n",
       "    .dataframe tbody tr th:only-of-type {\n",
       "        vertical-align: middle;\n",
       "    }\n",
       "\n",
       "    .dataframe tbody tr th {\n",
       "        vertical-align: top;\n",
       "    }\n",
       "\n",
       "    .dataframe thead th {\n",
       "        text-align: right;\n",
       "    }\n",
       "</style>\n",
       "<table border=\"1\" class=\"dataframe\">\n",
       "  <thead>\n",
       "    <tr style=\"text-align: right;\">\n",
       "      <th></th>\n",
       "      <th>user_id</th>\n",
       "      <th>timestamp</th>\n",
       "      <th>group</th>\n",
       "      <th>landing_page</th>\n",
       "      <th>converted</th>\n",
       "    </tr>\n",
       "  </thead>\n",
       "  <tbody>\n",
       "    <tr>\n",
       "      <th>308</th>\n",
       "      <td>857184</td>\n",
       "      <td>2017-01-20 07:34:59.832626</td>\n",
       "      <td>treatment</td>\n",
       "      <td>old_page</td>\n",
       "      <td>0</td>\n",
       "    </tr>\n",
       "    <tr>\n",
       "      <th>327</th>\n",
       "      <td>686623</td>\n",
       "      <td>2017-01-09 14:26:40.734775</td>\n",
       "      <td>treatment</td>\n",
       "      <td>old_page</td>\n",
       "      <td>0</td>\n",
       "    </tr>\n",
       "    <tr>\n",
       "      <th>357</th>\n",
       "      <td>856078</td>\n",
       "      <td>2017-01-12 12:29:30.354835</td>\n",
       "      <td>treatment</td>\n",
       "      <td>old_page</td>\n",
       "      <td>0</td>\n",
       "    </tr>\n",
       "    <tr>\n",
       "      <th>685</th>\n",
       "      <td>666385</td>\n",
       "      <td>2017-01-23 08:11:54.823806</td>\n",
       "      <td>treatment</td>\n",
       "      <td>old_page</td>\n",
       "      <td>0</td>\n",
       "    </tr>\n",
       "    <tr>\n",
       "      <th>713</th>\n",
       "      <td>748761</td>\n",
       "      <td>2017-01-10 15:47:44.445196</td>\n",
       "      <td>treatment</td>\n",
       "      <td>old_page</td>\n",
       "      <td>0</td>\n",
       "    </tr>\n",
       "    <tr>\n",
       "      <th>...</th>\n",
       "      <td>...</td>\n",
       "      <td>...</td>\n",
       "      <td>...</td>\n",
       "      <td>...</td>\n",
       "      <td>...</td>\n",
       "    </tr>\n",
       "    <tr>\n",
       "      <th>293773</th>\n",
       "      <td>688144</td>\n",
       "      <td>2017-01-16 20:34:50.450528</td>\n",
       "      <td>treatment</td>\n",
       "      <td>old_page</td>\n",
       "      <td>1</td>\n",
       "    </tr>\n",
       "    <tr>\n",
       "      <th>293817</th>\n",
       "      <td>876037</td>\n",
       "      <td>2017-01-17 16:15:08.957152</td>\n",
       "      <td>treatment</td>\n",
       "      <td>old_page</td>\n",
       "      <td>1</td>\n",
       "    </tr>\n",
       "    <tr>\n",
       "      <th>293917</th>\n",
       "      <td>738357</td>\n",
       "      <td>2017-01-05 15:37:55.729133</td>\n",
       "      <td>treatment</td>\n",
       "      <td>old_page</td>\n",
       "      <td>0</td>\n",
       "    </tr>\n",
       "    <tr>\n",
       "      <th>294014</th>\n",
       "      <td>813406</td>\n",
       "      <td>2017-01-09 06:25:33.223301</td>\n",
       "      <td>treatment</td>\n",
       "      <td>old_page</td>\n",
       "      <td>0</td>\n",
       "    </tr>\n",
       "    <tr>\n",
       "      <th>294252</th>\n",
       "      <td>892498</td>\n",
       "      <td>2017-01-22 01:11:10.463211</td>\n",
       "      <td>treatment</td>\n",
       "      <td>old_page</td>\n",
       "      <td>0</td>\n",
       "    </tr>\n",
       "  </tbody>\n",
       "</table>\n",
       "<p>1965 rows × 5 columns</p>\n",
       "</div>"
      ],
      "text/plain": [
       "        user_id                   timestamp      group landing_page  converted\n",
       "308      857184  2017-01-20 07:34:59.832626  treatment     old_page          0\n",
       "327      686623  2017-01-09 14:26:40.734775  treatment     old_page          0\n",
       "357      856078  2017-01-12 12:29:30.354835  treatment     old_page          0\n",
       "685      666385  2017-01-23 08:11:54.823806  treatment     old_page          0\n",
       "713      748761  2017-01-10 15:47:44.445196  treatment     old_page          0\n",
       "...         ...                         ...        ...          ...        ...\n",
       "293773   688144  2017-01-16 20:34:50.450528  treatment     old_page          1\n",
       "293817   876037  2017-01-17 16:15:08.957152  treatment     old_page          1\n",
       "293917   738357  2017-01-05 15:37:55.729133  treatment     old_page          0\n",
       "294014   813406  2017-01-09 06:25:33.223301  treatment     old_page          0\n",
       "294252   892498  2017-01-22 01:11:10.463211  treatment     old_page          0\n",
       "\n",
       "[1965 rows x 5 columns]"
      ]
     },
     "execution_count": 6,
     "metadata": {},
     "output_type": "execute_result"
    }
   ],
   "source": [
    "# Data that is incorrect (should not be) and should be removed from the data table.\n",
    "\n",
    "df.query('group == \"treatment\" and landing_page != \"new_page\"')"
   ]
  },
  {
   "cell_type": "code",
   "execution_count": 7,
   "metadata": {},
   "outputs": [
    {
     "data": {
      "text/html": [
       "<div>\n",
       "<style scoped>\n",
       "    .dataframe tbody tr th:only-of-type {\n",
       "        vertical-align: middle;\n",
       "    }\n",
       "\n",
       "    .dataframe tbody tr th {\n",
       "        vertical-align: top;\n",
       "    }\n",
       "\n",
       "    .dataframe thead th {\n",
       "        text-align: right;\n",
       "    }\n",
       "</style>\n",
       "<table border=\"1\" class=\"dataframe\">\n",
       "  <thead>\n",
       "    <tr style=\"text-align: right;\">\n",
       "      <th></th>\n",
       "      <th>user_id</th>\n",
       "      <th>timestamp</th>\n",
       "      <th>group</th>\n",
       "      <th>landing_page</th>\n",
       "      <th>converted</th>\n",
       "    </tr>\n",
       "  </thead>\n",
       "  <tbody>\n",
       "    <tr>\n",
       "      <th>22</th>\n",
       "      <td>767017</td>\n",
       "      <td>2017-01-12 22:58:14.991443</td>\n",
       "      <td>control</td>\n",
       "      <td>new_page</td>\n",
       "      <td>0</td>\n",
       "    </tr>\n",
       "    <tr>\n",
       "      <th>240</th>\n",
       "      <td>733976</td>\n",
       "      <td>2017-01-11 15:11:16.407599</td>\n",
       "      <td>control</td>\n",
       "      <td>new_page</td>\n",
       "      <td>0</td>\n",
       "    </tr>\n",
       "    <tr>\n",
       "      <th>490</th>\n",
       "      <td>808613</td>\n",
       "      <td>2017-01-10 21:44:01.292755</td>\n",
       "      <td>control</td>\n",
       "      <td>new_page</td>\n",
       "      <td>0</td>\n",
       "    </tr>\n",
       "    <tr>\n",
       "      <th>846</th>\n",
       "      <td>637639</td>\n",
       "      <td>2017-01-11 23:09:52.682329</td>\n",
       "      <td>control</td>\n",
       "      <td>new_page</td>\n",
       "      <td>1</td>\n",
       "    </tr>\n",
       "    <tr>\n",
       "      <th>850</th>\n",
       "      <td>793580</td>\n",
       "      <td>2017-01-08 03:25:33.723712</td>\n",
       "      <td>control</td>\n",
       "      <td>new_page</td>\n",
       "      <td>1</td>\n",
       "    </tr>\n",
       "    <tr>\n",
       "      <th>...</th>\n",
       "      <td>...</td>\n",
       "      <td>...</td>\n",
       "      <td>...</td>\n",
       "      <td>...</td>\n",
       "      <td>...</td>\n",
       "    </tr>\n",
       "    <tr>\n",
       "      <th>293894</th>\n",
       "      <td>741581</td>\n",
       "      <td>2017-01-09 20:49:03.391764</td>\n",
       "      <td>control</td>\n",
       "      <td>new_page</td>\n",
       "      <td>0</td>\n",
       "    </tr>\n",
       "    <tr>\n",
       "      <th>293996</th>\n",
       "      <td>942612</td>\n",
       "      <td>2017-01-08 13:52:28.182648</td>\n",
       "      <td>control</td>\n",
       "      <td>new_page</td>\n",
       "      <td>0</td>\n",
       "    </tr>\n",
       "    <tr>\n",
       "      <th>294200</th>\n",
       "      <td>928506</td>\n",
       "      <td>2017-01-13 21:32:10.491309</td>\n",
       "      <td>control</td>\n",
       "      <td>new_page</td>\n",
       "      <td>0</td>\n",
       "    </tr>\n",
       "    <tr>\n",
       "      <th>294253</th>\n",
       "      <td>886135</td>\n",
       "      <td>2017-01-06 12:49:20.509403</td>\n",
       "      <td>control</td>\n",
       "      <td>new_page</td>\n",
       "      <td>0</td>\n",
       "    </tr>\n",
       "    <tr>\n",
       "      <th>294331</th>\n",
       "      <td>689637</td>\n",
       "      <td>2017-01-13 11:34:28.339532</td>\n",
       "      <td>control</td>\n",
       "      <td>new_page</td>\n",
       "      <td>0</td>\n",
       "    </tr>\n",
       "  </tbody>\n",
       "</table>\n",
       "<p>1928 rows × 5 columns</p>\n",
       "</div>"
      ],
      "text/plain": [
       "        user_id                   timestamp    group landing_page  converted\n",
       "22       767017  2017-01-12 22:58:14.991443  control     new_page          0\n",
       "240      733976  2017-01-11 15:11:16.407599  control     new_page          0\n",
       "490      808613  2017-01-10 21:44:01.292755  control     new_page          0\n",
       "846      637639  2017-01-11 23:09:52.682329  control     new_page          1\n",
       "850      793580  2017-01-08 03:25:33.723712  control     new_page          1\n",
       "...         ...                         ...      ...          ...        ...\n",
       "293894   741581  2017-01-09 20:49:03.391764  control     new_page          0\n",
       "293996   942612  2017-01-08 13:52:28.182648  control     new_page          0\n",
       "294200   928506  2017-01-13 21:32:10.491309  control     new_page          0\n",
       "294253   886135  2017-01-06 12:49:20.509403  control     new_page          0\n",
       "294331   689637  2017-01-13 11:34:28.339532  control     new_page          0\n",
       "\n",
       "[1928 rows x 5 columns]"
      ]
     },
     "execution_count": 7,
     "metadata": {},
     "output_type": "execute_result"
    }
   ],
   "source": [
    "# Data that is incorrect (should not be) and should be removed from the data table.\n",
    "\n",
    "df.query('group == \"control\" and landing_page != \"old_page\"')"
   ]
  },
  {
   "cell_type": "code",
   "execution_count": 8,
   "metadata": {},
   "outputs": [
    {
     "name": "stdout",
     "output_type": "stream",
     "text": [
      "<class 'pandas.core.frame.DataFrame'>\n",
      "RangeIndex: 294478 entries, 0 to 294477\n",
      "Data columns (total 5 columns):\n",
      " #   Column        Non-Null Count   Dtype \n",
      "---  ------        --------------   ----- \n",
      " 0   user_id       294478 non-null  int64 \n",
      " 1   timestamp     294478 non-null  object\n",
      " 2   group         294478 non-null  object\n",
      " 3   landing_page  294478 non-null  object\n",
      " 4   converted     294478 non-null  int64 \n",
      "dtypes: int64(2), object(3)\n",
      "memory usage: 11.2+ MB\n"
     ]
    }
   ],
   "source": [
    "df.info()"
   ]
  },
  {
   "cell_type": "code",
   "execution_count": 12,
   "metadata": {},
   "outputs": [],
   "source": [
    "df2t = df.query('group == \"treatment\" and landing_page == \"new_page\"')\n",
    "df2c = df.query('group == \"control\" and landing_page == \"old_page\"')"
   ]
  },
  {
   "cell_type": "code",
   "execution_count": 13,
   "metadata": {},
   "outputs": [
    {
     "data": {
      "text/html": [
       "<div>\n",
       "<style scoped>\n",
       "    .dataframe tbody tr th:only-of-type {\n",
       "        vertical-align: middle;\n",
       "    }\n",
       "\n",
       "    .dataframe tbody tr th {\n",
       "        vertical-align: top;\n",
       "    }\n",
       "\n",
       "    .dataframe thead th {\n",
       "        text-align: right;\n",
       "    }\n",
       "</style>\n",
       "<table border=\"1\" class=\"dataframe\">\n",
       "  <thead>\n",
       "    <tr style=\"text-align: right;\">\n",
       "      <th></th>\n",
       "      <th>user_id</th>\n",
       "      <th>timestamp</th>\n",
       "      <th>group</th>\n",
       "      <th>landing_page</th>\n",
       "      <th>converted</th>\n",
       "    </tr>\n",
       "  </thead>\n",
       "  <tbody>\n",
       "    <tr>\n",
       "      <th>0</th>\n",
       "      <td>661590</td>\n",
       "      <td>2017-01-11 16:55:06.154213</td>\n",
       "      <td>treatment</td>\n",
       "      <td>new_page</td>\n",
       "      <td>0</td>\n",
       "    </tr>\n",
       "    <tr>\n",
       "      <th>1</th>\n",
       "      <td>853541</td>\n",
       "      <td>2017-01-08 18:28:03.143765</td>\n",
       "      <td>treatment</td>\n",
       "      <td>new_page</td>\n",
       "      <td>0</td>\n",
       "    </tr>\n",
       "    <tr>\n",
       "      <th>2</th>\n",
       "      <td>679687</td>\n",
       "      <td>2017-01-19 03:26:46.940749</td>\n",
       "      <td>treatment</td>\n",
       "      <td>new_page</td>\n",
       "      <td>1</td>\n",
       "    </tr>\n",
       "    <tr>\n",
       "      <th>3</th>\n",
       "      <td>817355</td>\n",
       "      <td>2017-01-04 17:58:08.979471</td>\n",
       "      <td>treatment</td>\n",
       "      <td>new_page</td>\n",
       "      <td>1</td>\n",
       "    </tr>\n",
       "    <tr>\n",
       "      <th>4</th>\n",
       "      <td>839785</td>\n",
       "      <td>2017-01-15 18:11:06.610965</td>\n",
       "      <td>treatment</td>\n",
       "      <td>new_page</td>\n",
       "      <td>1</td>\n",
       "    </tr>\n",
       "  </tbody>\n",
       "</table>\n",
       "</div>"
      ],
      "text/plain": [
       "   user_id                   timestamp      group landing_page  converted\n",
       "0   661590  2017-01-11 16:55:06.154213  treatment     new_page          0\n",
       "1   853541  2017-01-08 18:28:03.143765  treatment     new_page          0\n",
       "2   679687  2017-01-19 03:26:46.940749  treatment     new_page          1\n",
       "3   817355  2017-01-04 17:58:08.979471  treatment     new_page          1\n",
       "4   839785  2017-01-15 18:11:06.610965  treatment     new_page          1"
      ]
     },
     "execution_count": 13,
     "metadata": {},
     "output_type": "execute_result"
    }
   ],
   "source": [
    "# Merge data frames that were correct and should be (i.e., data that was incorrect is removed)\n",
    "df2 = df2t.merge(df2c, how='outer')\n",
    "df2.head()"
   ]
  },
  {
   "cell_type": "code",
   "execution_count": 14,
   "metadata": {},
   "outputs": [
    {
     "data": {
      "text/plain": [
       "(290585, 5)"
      ]
     },
     "execution_count": 14,
     "metadata": {},
     "output_type": "execute_result"
    }
   ],
   "source": [
    "df2.shape"
   ]
  },
  {
   "cell_type": "code",
   "execution_count": 15,
   "metadata": {},
   "outputs": [
    {
     "data": {
      "text/html": [
       "<div>\n",
       "<style scoped>\n",
       "    .dataframe tbody tr th:only-of-type {\n",
       "        vertical-align: middle;\n",
       "    }\n",
       "\n",
       "    .dataframe tbody tr th {\n",
       "        vertical-align: top;\n",
       "    }\n",
       "\n",
       "    .dataframe thead th {\n",
       "        text-align: right;\n",
       "    }\n",
       "</style>\n",
       "<table border=\"1\" class=\"dataframe\">\n",
       "  <thead>\n",
       "    <tr style=\"text-align: right;\">\n",
       "      <th></th>\n",
       "      <th>user_id</th>\n",
       "      <th>converted</th>\n",
       "    </tr>\n",
       "  </thead>\n",
       "  <tbody>\n",
       "    <tr>\n",
       "      <th>count</th>\n",
       "      <td>290585.000000</td>\n",
       "      <td>290585.000000</td>\n",
       "    </tr>\n",
       "    <tr>\n",
       "      <th>mean</th>\n",
       "      <td>788004.825246</td>\n",
       "      <td>0.119597</td>\n",
       "    </tr>\n",
       "    <tr>\n",
       "      <th>std</th>\n",
       "      <td>91224.582639</td>\n",
       "      <td>0.324490</td>\n",
       "    </tr>\n",
       "    <tr>\n",
       "      <th>min</th>\n",
       "      <td>630000.000000</td>\n",
       "      <td>0.000000</td>\n",
       "    </tr>\n",
       "    <tr>\n",
       "      <th>25%</th>\n",
       "      <td>709035.000000</td>\n",
       "      <td>0.000000</td>\n",
       "    </tr>\n",
       "    <tr>\n",
       "      <th>50%</th>\n",
       "      <td>787995.000000</td>\n",
       "      <td>0.000000</td>\n",
       "    </tr>\n",
       "    <tr>\n",
       "      <th>75%</th>\n",
       "      <td>866956.000000</td>\n",
       "      <td>0.000000</td>\n",
       "    </tr>\n",
       "    <tr>\n",
       "      <th>max</th>\n",
       "      <td>945999.000000</td>\n",
       "      <td>1.000000</td>\n",
       "    </tr>\n",
       "  </tbody>\n",
       "</table>\n",
       "</div>"
      ],
      "text/plain": [
       "             user_id      converted\n",
       "count  290585.000000  290585.000000\n",
       "mean   788004.825246       0.119597\n",
       "std     91224.582639       0.324490\n",
       "min    630000.000000       0.000000\n",
       "25%    709035.000000       0.000000\n",
       "50%    787995.000000       0.000000\n",
       "75%    866956.000000       0.000000\n",
       "max    945999.000000       1.000000"
      ]
     },
     "execution_count": 15,
     "metadata": {},
     "output_type": "execute_result"
    }
   ],
   "source": [
    "df2.describe()"
   ]
  },
  {
   "cell_type": "code",
   "execution_count": 16,
   "metadata": {},
   "outputs": [
    {
     "data": {
      "text/plain": [
       "user_id         290584\n",
       "timestamp       290585\n",
       "group                2\n",
       "landing_page         2\n",
       "converted            2\n",
       "dtype: int64"
      ]
     },
     "execution_count": 16,
     "metadata": {},
     "output_type": "execute_result"
    }
   ],
   "source": [
    "df2.nunique()"
   ]
  },
  {
   "cell_type": "code",
   "execution_count": 17,
   "metadata": {},
   "outputs": [
    {
     "data": {
      "text/plain": [
       "1"
      ]
     },
     "execution_count": 17,
     "metadata": {},
     "output_type": "execute_result"
    }
   ],
   "source": [
    "# Summary of duplicates\n",
    "\n",
    "sum(df2['user_id'].duplicated())"
   ]
  },
  {
   "cell_type": "code",
   "execution_count": 18,
   "metadata": {},
   "outputs": [
    {
     "data": {
      "text/html": [
       "<div>\n",
       "<style scoped>\n",
       "    .dataframe tbody tr th:only-of-type {\n",
       "        vertical-align: middle;\n",
       "    }\n",
       "\n",
       "    .dataframe tbody tr th {\n",
       "        vertical-align: top;\n",
       "    }\n",
       "\n",
       "    .dataframe thead th {\n",
       "        text-align: right;\n",
       "    }\n",
       "</style>\n",
       "<table border=\"1\" class=\"dataframe\">\n",
       "  <thead>\n",
       "    <tr style=\"text-align: right;\">\n",
       "      <th></th>\n",
       "      <th>user_id</th>\n",
       "      <th>timestamp</th>\n",
       "      <th>group</th>\n",
       "      <th>landing_page</th>\n",
       "      <th>converted</th>\n",
       "    </tr>\n",
       "  </thead>\n",
       "  <tbody>\n",
       "    <tr>\n",
       "      <th>1404</th>\n",
       "      <td>773192</td>\n",
       "      <td>2017-01-14 02:55:59.590927</td>\n",
       "      <td>treatment</td>\n",
       "      <td>new_page</td>\n",
       "      <td>0</td>\n",
       "    </tr>\n",
       "  </tbody>\n",
       "</table>\n",
       "</div>"
      ],
      "text/plain": [
       "      user_id                   timestamp      group landing_page  converted\n",
       "1404   773192  2017-01-14 02:55:59.590927  treatment     new_page          0"
      ]
     },
     "execution_count": 18,
     "metadata": {},
     "output_type": "execute_result"
    }
   ],
   "source": [
    "# Keep the first duplicate in the data frame\n",
    "\n",
    "df2[df2['user_id'].duplicated(keep='first')]"
   ]
  },
  {
   "cell_type": "code",
   "execution_count": 21,
   "metadata": {},
   "outputs": [],
   "source": [
    "# Reverse the above command (get all of them except the one that was duplicate)\n",
    "\n",
    "df2 = df2[~df2.user_id.duplicated(keep='first')]"
   ]
  },
  {
   "cell_type": "code",
   "execution_count": 22,
   "metadata": {},
   "outputs": [
    {
     "data": {
      "text/plain": [
       "user_id         290584\n",
       "timestamp       290584\n",
       "group                2\n",
       "landing_page         2\n",
       "converted            2\n",
       "dtype: int64"
      ]
     },
     "execution_count": 22,
     "metadata": {},
     "output_type": "execute_result"
    }
   ],
   "source": [
    "df2.nunique()"
   ]
  },
  {
   "cell_type": "code",
   "execution_count": 23,
   "metadata": {},
   "outputs": [
    {
     "data": {
      "text/plain": [
       "11.959708724499627"
      ]
     },
     "execution_count": 23,
     "metadata": {},
     "output_type": "execute_result"
    }
   ],
   "source": [
    "df2.converted.mean() * 100"
   ]
  },
  {
   "cell_type": "code",
   "execution_count": 24,
   "metadata": {},
   "outputs": [],
   "source": [
    "df2_control = df2.query('group == \"control\"')\n",
    "df2_treatment = df2.query('group == \"treatment\"')"
   ]
  },
  {
   "cell_type": "code",
   "execution_count": 25,
   "metadata": {},
   "outputs": [
    {
     "data": {
      "text/plain": [
       "12.03863045004612"
      ]
     },
     "execution_count": 25,
     "metadata": {},
     "output_type": "execute_result"
    }
   ],
   "source": [
    "df2_control['converted'].mean() * 100"
   ]
  },
  {
   "cell_type": "code",
   "execution_count": 26,
   "metadata": {},
   "outputs": [
    {
     "data": {
      "text/plain": [
       "11.880806551510565"
      ]
     },
     "execution_count": 26,
     "metadata": {},
     "output_type": "execute_result"
    }
   ],
   "source": [
    "df2_treatment['converted'].mean() * 100"
   ]
  },
  {
   "cell_type": "code",
   "execution_count": 27,
   "metadata": {},
   "outputs": [
    {
     "data": {
      "text/plain": [
       "0.11959708724499628"
      ]
     },
     "execution_count": 27,
     "metadata": {},
     "output_type": "execute_result"
    }
   ],
   "source": [
    "df2['converted'].mean()"
   ]
  },
  {
   "cell_type": "code",
   "execution_count": 28,
   "metadata": {},
   "outputs": [
    {
     "data": {
      "text/plain": [
       "0.8804029127550037"
      ]
     },
     "execution_count": 28,
     "metadata": {},
     "output_type": "execute_result"
    }
   ],
   "source": [
    "1 - df2['converted'].mean()"
   ]
  },
  {
   "cell_type": "code",
   "execution_count": 29,
   "metadata": {},
   "outputs": [
    {
     "data": {
      "text/plain": [
       "145310"
      ]
     },
     "execution_count": 29,
     "metadata": {},
     "output_type": "execute_result"
    }
   ],
   "source": [
    "len(df2_treatment)"
   ]
  },
  {
   "cell_type": "code",
   "execution_count": 30,
   "metadata": {},
   "outputs": [],
   "source": [
    "# AB Test for the probability of decreased purchases from the new page\n",
    "\n",
    "new_page_converted = np.random.choice([1, 0], size=len(df2_treatment), p=[df2.converted.mean(), 1 - df2.converted.mean()])"
   ]
  },
  {
   "cell_type": "code",
   "execution_count": 31,
   "metadata": {},
   "outputs": [
    {
     "data": {
      "text/plain": [
       "array([0, 0, 1, ..., 0, 1, 0])"
      ]
     },
     "execution_count": 31,
     "metadata": {},
     "output_type": "execute_result"
    }
   ],
   "source": [
    "new_page_converted"
   ]
  },
  {
   "cell_type": "code",
   "execution_count": 32,
   "metadata": {},
   "outputs": [
    {
     "data": {
      "text/plain": [
       "(array([127945.,      0.,      0.,      0.,      0.,      0.,      0.,\n",
       "             0.,      0.,  17365.]),\n",
       " array([0. , 0.1, 0.2, 0.3, 0.4, 0.5, 0.6, 0.7, 0.8, 0.9, 1. ]),\n",
       " <BarContainer object of 10 artists>)"
      ]
     },
     "execution_count": 32,
     "metadata": {},
     "output_type": "execute_result"
    },
    {
     "data": {
      "image/png": "[encoded data removed]",
      "text/plain": [
       "<Figure size 640x480 with 1 Axes>"
      ]
     },
     "metadata": {},
     "output_type": "display_data"
    }
   ],
   "source": [
    "plt.hist(new_page_converted)"
   ]
  },
  {
   "cell_type": "code",
   "execution_count": 34,
   "metadata": {},
   "outputs": [],
   "source": [
    "# # AB Test for the probability of decreased purchases from the old page\n",
    "\n",
    "new_page_converted = np.random.choice([1, 0], size=len(df2_control), p=[df2.converted.mean(), 1 - df2.converted.mean()])"
   ]
  },
  {
   "cell_type": "code",
   "execution_count": 35,
   "metadata": {},
   "outputs": [],
   "source": [
    "# Or use the binomial distribution\n",
    "new_page_converted = np.random.binomial(len(df2_treatment), df2.converted.mean(), 1000) / len(df2_treatment)\n",
    "\n",
    "old_page_converted = np.random.binomial(len(df2_control), df2.converted.mean(), 1000) / len(df2_control)"
   ]
  },
  {
   "cell_type": "code",
   "execution_count": 36,
   "metadata": {},
   "outputs": [
    {
     "data": {
      "text/plain": [
       "array([0.12023487, 0.11918857, 0.11998018, 0.11887881, 0.11834189,\n",
       "       0.11904401, 0.11964977, 0.11947768, 0.12106089, 0.11928494,\n",
       "       0.11974613, 0.11988381, 0.12042761, 0.1197186 , 0.1202624 ,\n",
       "       0.11900271, 0.11931936, 0.12163911, 0.12002836, 0.12050332,\n",
       "       0.11951209, 0.11822487, 0.11952586, 0.11991822, 0.11989757,\n",
       "       0.12053774, 0.11936754, 0.12000083, 0.11885816, 0.11943638,\n",
       "       0.12111596, 0.11898895, 0.11985627, 0.11983562, 0.11957405,\n",
       "       0.11940884, 0.12113661, 0.11916103, 0.1198012 , 0.1191748 ,\n",
       "       0.12039319, 0.11885127, 0.11946391, 0.11967042, 0.11993199,\n",
       "       0.11906466, 0.11838319, 0.11911285, 0.11837631, 0.12043449,\n",
       "       0.11885127, 0.12003524, 0.11876179, 0.11918168, 0.11930559,\n",
       "       0.11962223, 0.11990446, 0.11984939, 0.12051709, 0.12051021,\n",
       "       0.11995264, 0.12000083, 0.11863788, 0.11916103, 0.11973237,\n",
       "       0.11892699, 0.11982874, 0.11803902, 0.11922299, 0.12002836,\n",
       "       0.12055151, 0.11911285, 0.1202211 , 0.12040696, 0.11964288,\n",
       "       0.12016603, 0.11797018, 0.12011785, 0.11774991, 0.11983562,\n",
       "       0.11817669, 0.11856217, 0.12096452, 0.12077867, 0.12112284,\n",
       "       0.11878244, 0.11879621, 0.11935377, 0.12000771, 0.11944326,\n",
       "       0.11991822, 0.11953963, 0.11792888, 0.12065476, 0.12006278,\n",
       "       0.12011096, 0.11928494, 0.12025552, 0.11930559, 0.11969795,\n",
       "       0.11907155, 0.11945014, 0.11911285, 0.11956028, 0.11934689,\n",
       "       0.11954651, 0.11983562, 0.12012473, 0.11983562, 0.11938819,\n",
       "       0.11975302, 0.11779809, 0.11938819, 0.11958093, 0.11890634,\n",
       "       0.11991134, 0.12104712, 0.11873425, 0.12022798, 0.11942949,\n",
       "       0.11989757, 0.118631  , 0.11861035, 0.12052398, 0.11936754,\n",
       "       0.11876867, 0.11992511, 0.11950521, 0.12011785, 0.11936066,\n",
       "       0.11999394, 0.1206823 , 0.11967042, 0.11918857, 0.11969107,\n",
       "       0.12019357, 0.11901648, 0.11940196, 0.11817669, 0.1202211 ,\n",
       "       0.12006966, 0.1195534 , 0.1197186 , 0.1185897 , 0.11947768,\n",
       "       0.120345  , 0.12035189, 0.12053086, 0.11968418, 0.11978055,\n",
       "       0.12028993, 0.1192161 , 0.11802525, 0.1187136 , 0.11874114,\n",
       "       0.12015915, 0.11974613, 0.12040007, 0.11860347, 0.1191748 ,\n",
       "       0.11984939, 0.11889258, 0.11882374, 0.11928494, 0.11974613,\n",
       "       0.1200972 , 0.11928494, 0.12052398, 0.11995264, 0.1195947 ,\n",
       "       0.11938819, 0.1192574 , 0.119636  , 0.1187136 , 0.11831436,\n",
       "       0.11916792, 0.11995952, 0.11819045, 0.12008343, 0.11950521,\n",
       "       0.11825929, 0.11932624, 0.11907843, 0.11973925, 0.12016603,\n",
       "       0.11934001, 0.11996641, 0.11986316, 0.11977367, 0.11940884,\n",
       "       0.11888569, 0.11905778, 0.11961535, 0.12001459, 0.11945703,\n",
       "       0.11823176, 0.11940196, 0.1174608 , 0.1192161 , 0.11995264,\n",
       "       0.11891323, 0.11811473, 0.12056528, 0.11928494, 0.12031059,\n",
       "       0.12054463, 0.11788069, 0.1218112 , 0.12060658, 0.11927117,\n",
       "       0.12132247, 0.12055151, 0.1208475 , 0.11902336, 0.11956716,\n",
       "       0.11989069, 0.11952586, 0.12004213, 0.11932624, 0.11987004,\n",
       "       0.11814227, 0.11967042, 0.11993887, 0.12183185, 0.11835566,\n",
       "       0.11966353, 0.11957405, 0.1198012 , 0.11953963, 0.11951898,\n",
       "       0.11942949, 0.12015915, 0.11904401, 0.1203863 , 0.11918168,\n",
       "       0.11939507, 0.12000083, 0.12065476, 0.11990446, 0.11969795,\n",
       "       0.12096452, 0.11916792, 0.11863788, 0.11885816, 0.11897518,\n",
       "       0.1198425 , 0.11991822, 0.12027617, 0.1203037 , 0.11901648,\n",
       "       0.11874114, 0.11865853, 0.12061346, 0.12073048, 0.11965665,\n",
       "       0.11990446, 0.11968418, 0.11937442, 0.12009031, 0.12032435,\n",
       "       0.11851398, 0.1198012 , 0.11967042, 0.11934001, 0.12001459,\n",
       "       0.12013161, 0.12058593, 0.11978055, 0.1202211 , 0.11965665,\n",
       "       0.11906466, 0.11940884, 0.1191335 , 0.1218938 , 0.11927805,\n",
       "       0.11872049, 0.12002148, 0.12058593, 0.12033124, 0.12017291,\n",
       "       0.1198012 , 0.12106089, 0.11995952, 0.11836943, 0.11939507,\n",
       "       0.11945014, 0.11985627, 0.11868607, 0.11960846, 0.1185484 ,\n",
       "       0.1192161 , 0.1191748 , 0.11970483, 0.12070295, 0.11953275,\n",
       "       0.11936066, 0.11883751, 0.11851398, 0.11890634, 0.11809408,\n",
       "       0.12008343, 0.12083373, 0.12059969, 0.11960846, 0.1208062 ,\n",
       "       0.12037942, 0.12013161, 0.12012473, 0.11944326, 0.11926429,\n",
       "       0.12046202, 0.11922987, 0.11931247, 0.12077867, 0.11941572,\n",
       "       0.12043449, 0.11892011, 0.11876867, 0.11810785, 0.11892011,\n",
       "       0.11980809, 0.11999394, 0.11915415, 0.1192161 , 0.11994576,\n",
       "       0.11966353, 0.11969107, 0.12055839, 0.12119168, 0.12011785,\n",
       "       0.11879621, 0.12100582, 0.12004901, 0.11865165, 0.12040007,\n",
       "       0.11990446, 0.11869295, 0.11971172, 0.11919545, 0.12029682,\n",
       "       0.11799771, 0.11836943, 0.11997329, 0.11862412, 0.11882374,\n",
       "       0.11958093, 0.12112973, 0.12059281, 0.11988381, 0.11958781,\n",
       "       0.12023487, 0.11851398, 0.11972548, 0.11915415, 0.11942261,\n",
       "       0.12040696, 0.12006278, 0.12000083, 0.12066165, 0.11892699,\n",
       "       0.12013161, 0.12054463, 0.12033124, 0.12065476, 0.12024863,\n",
       "       0.12098517, 0.11990446, 0.11915415, 0.12044137, 0.11975302,\n",
       "       0.11999394, 0.120641  , 0.11948456, 0.11866542, 0.11728871,\n",
       "       0.11872737, 0.12084062, 0.12152897, 0.11949833, 0.11987692,\n",
       "       0.11898206, 0.11922299, 0.11778432, 0.11952586, 0.12022798,\n",
       "       0.12079243, 0.12036565, 0.12180431, 0.11942261, 0.12101959,\n",
       "       0.1190922 , 0.11904401, 0.11993199, 0.12048956, 0.12044137,\n",
       "       0.12077178, 0.12011096, 0.12006278, 0.11856217, 0.11911285,\n",
       "       0.11980809, 0.12000083, 0.11908531, 0.12161158, 0.11969107,\n",
       "       0.11878932, 0.11781874, 0.12028305, 0.11987692, 0.12100582,\n",
       "       0.11852086, 0.11900271, 0.11977367, 0.12105401, 0.11890634,\n",
       "       0.11942261, 0.1197186 , 0.1191748 , 0.12048956, 0.11942261,\n",
       "       0.11889946, 0.1198425 , 0.11862412, 0.11984939, 0.12027617,\n",
       "       0.11987692, 0.11897518, 0.11993199, 0.11965665, 0.11787381,\n",
       "       0.1176673 , 0.12011785, 0.11872737, 0.11964977, 0.11915415,\n",
       "       0.12002836, 0.12032435, 0.12010408, 0.12014538, 0.12029682,\n",
       "       0.12000771, 0.11880309, 0.11945703, 0.11890634, 0.12037254,\n",
       "       0.12060658, 0.12014538, 0.11781186, 0.12156339, 0.12005589,\n",
       "       0.11995952, 0.11873425, 0.12099206, 0.11993887, 0.11929182,\n",
       "       0.11869295, 0.12119168, 0.12127428, 0.11936754, 0.11919545,\n",
       "       0.11874802, 0.11990446, 0.12096452, 0.11991822, 0.11814915,\n",
       "       0.11987692, 0.12126051, 0.11872049, 0.12000083, 0.11935377,\n",
       "       0.118631  , 0.12024863, 0.11911285, 0.11960158, 0.11977367,\n",
       "       0.11858282, 0.11876867, 0.11962223, 0.12000083, 0.12031059,\n",
       "       0.11985627, 0.12046202, 0.11929182, 0.11825929, 0.11980809,\n",
       "       0.11969107, 0.11942261, 0.11969795, 0.11946391, 0.11833501,\n",
       "       0.11919545, 0.12115038, 0.12050332, 0.12016603, 0.11967042,\n",
       "       0.12002836, 0.11876867, 0.12095076, 0.11981497, 0.11915415,\n",
       "       0.11839696, 0.11979432, 0.11976679, 0.11874802, 0.11920233,\n",
       "       0.11988381, 0.12077867, 0.11992511, 0.11982874, 0.11981497,\n",
       "       0.11958781, 0.12026928, 0.12033812, 0.11966353, 0.11945703,\n",
       "       0.12022798, 0.11953963, 0.12075802, 0.12013161, 0.12045514,\n",
       "       0.1197599 , 0.11937442, 0.11841073, 0.11958093, 0.11958781,\n",
       "       0.11924364, 0.11853463, 0.1195947 , 0.11903713, 0.11942261,\n",
       "       0.11985627, 0.12140507, 0.12116414, 0.12121233, 0.11914727,\n",
       "       0.11992511, 0.12125363, 0.12083373, 0.11885816, 0.11960158,\n",
       "       0.12039319, 0.12073737, 0.12021422, 0.12029682, 0.11940884,\n",
       "       0.12042072, 0.11935377, 0.11903025, 0.12068918, 0.11989069,\n",
       "       0.11973237, 0.12022798, 0.12097829, 0.11911285, 0.11978744,\n",
       "       0.11883751, 0.12164599, 0.1187136 , 0.11906466, 0.11909908,\n",
       "       0.1190096 , 0.11915415, 0.12016603, 0.12135688, 0.11819734,\n",
       "       0.11852086, 0.12042761, 0.11881686, 0.11889258, 0.1191335 ,\n",
       "       0.11947768, 0.11866542, 0.11925052, 0.11890634, 0.12107466,\n",
       "       0.11936066, 0.12059969, 0.11942949, 0.11933312, 0.11997329,\n",
       "       0.11961535, 0.12009031, 0.11968418, 0.11870672, 0.11983562,\n",
       "       0.12029682, 0.11991134, 0.12028993, 0.11994576, 0.12052398,\n",
       "       0.1198425 , 0.11970483, 0.12060658, 0.11825241, 0.1182111 ,\n",
       "       0.11883062, 0.11940884, 0.11964288, 0.12048956, 0.11940884,\n",
       "       0.11870672, 0.11950521, 0.11937442, 0.12044826, 0.12081308,\n",
       "       0.11865165, 0.1201798 , 0.11940884, 0.1195947 , 0.11861035,\n",
       "       0.1214739 , 0.11936066, 0.11953275, 0.11916792, 0.11883062,\n",
       "       0.11920922, 0.11919545, 0.12146702, 0.1208888 , 0.11970483,\n",
       "       0.11957405, 0.11920922, 0.11945014, 0.11794953, 0.12008343,\n",
       "       0.11953963, 0.12105401, 0.1192574 , 0.1198012 , 0.12016603,\n",
       "       0.11999394, 0.11861035, 0.11973237, 0.1191335 , 0.12007655,\n",
       "       0.11960846, 0.12057216, 0.1197599 , 0.1184658 , 0.11969795,\n",
       "       0.11938131, 0.11782563, 0.11788758, 0.1202624 , 0.11982874,\n",
       "       0.11973925, 0.12021422, 0.11939507, 0.11763977, 0.11957405,\n",
       "       0.12001459, 0.11919545, 0.11930559, 0.11991134, 0.11823176,\n",
       "       0.12037942, 0.11861723, 0.12008343, 0.12126051, 0.12093699,\n",
       "       0.11945703, 0.11866542, 0.12099206, 0.11993887, 0.12003524,\n",
       "       0.11951898, 0.12117791, 0.11920233, 0.1185484 , 0.11889258,\n",
       "       0.11944326, 0.12057216, 0.12026928, 0.11872737, 0.11977367,\n",
       "       0.12068918, 0.11883751, 0.1192574 , 0.11929182, 0.12058593,\n",
       "       0.11896141, 0.11976679, 0.1198012 , 0.11881686, 0.11911973,\n",
       "       0.11881686, 0.11847956, 0.11979432, 0.11898895, 0.12013161,\n",
       "       0.12096452, 0.12028305, 0.11889258, 0.12041384, 0.12020045,\n",
       "       0.11845891, 0.12002148, 0.12059281, 0.11905778, 0.11942261,\n",
       "       0.1203863 , 0.12008343, 0.11807343, 0.12006278, 0.12093699,\n",
       "       0.1191335 , 0.12005589, 0.11957405, 0.11954651, 0.11945703,\n",
       "       0.11962911, 0.12051709, 0.11974613, 0.11999394, 0.11945014,\n",
       "       0.11947079, 0.12060658, 0.12010408, 0.11862412, 0.11931247,\n",
       "       0.1191748 , 0.11902336, 0.11903025, 0.12178366, 0.11974613,\n",
       "       0.12041384, 0.12005589, 0.12017291, 0.12084062, 0.11781186,\n",
       "       0.11888569, 0.11756405, 0.12199017, 0.12077178, 0.11946391,\n",
       "       0.12064788, 0.11990446, 0.12069606, 0.12141195, 0.11887881,\n",
       "       0.11974613, 0.12043449, 0.12035189, 0.11877556, 0.11995264,\n",
       "       0.11987692, 0.11938131, 0.1192161 , 0.12079243, 0.11912662,\n",
       "       0.11915415, 0.12086127, 0.12007655, 0.11989757, 0.1181698 ,\n",
       "       0.11891323, 0.12035189, 0.12090257, 0.12059969, 0.12004901,\n",
       "       0.1212674 , 0.11973237, 0.1185897 , 0.12020733, 0.1202624 ,\n",
       "       0.1190922 , 0.12020045, 0.11898895, 0.11950521, 0.12027617,\n",
       "       0.12037254, 0.11889258, 0.12020733, 0.12011785, 0.11966353,\n",
       "       0.12083373, 0.11965665, 0.11890634, 0.11898895, 0.12135688,\n",
       "       0.11894764, 0.12112973, 0.12015226, 0.12051021, 0.11904401,\n",
       "       0.1195534 , 0.12051021, 0.11894076, 0.11989757, 0.12028305,\n",
       "       0.12081997, 0.11949144, 0.12067541, 0.12066853, 0.12123298,\n",
       "       0.11873425, 0.11967042, 0.11907155, 0.11894076, 0.12066165,\n",
       "       0.11896141, 0.1180046 , 0.11852775, 0.11951209, 0.12046202,\n",
       "       0.12190757, 0.11931936, 0.11841073, 0.11925052, 0.11988381,\n",
       "       0.11916103, 0.1211848 , 0.11918857, 0.12014538, 0.11998706,\n",
       "       0.1212674 , 0.11914038, 0.11911285, 0.12170794, 0.12017291,\n",
       "       0.12028305, 0.11885127, 0.1207649 , 0.1196773 , 0.11952586,\n",
       "       0.12070295, 0.1195947 , 0.12103336, 0.1190922 , 0.11894076,\n",
       "       0.11892699, 0.12086815, 0.11927805, 0.11819045, 0.11940884,\n",
       "       0.12039319, 0.11918857, 0.11987692, 0.12074425, 0.11877556,\n",
       "       0.1192987 , 0.11976679, 0.12019357, 0.12086815, 0.11862412,\n",
       "       0.12050332, 0.11841073, 0.11834878, 0.11934001, 0.11996641,\n",
       "       0.11927117, 0.11972548, 0.1203863 , 0.11916792, 0.12101959,\n",
       "       0.11878932, 0.11923675, 0.1192161 , 0.11951898, 0.1218112 ,\n",
       "       0.11881686, 0.11985627, 0.11887192, 0.11961535, 0.11945014,\n",
       "       0.12029682, 0.11894076, 0.11903713, 0.11911285, 0.12035877,\n",
       "       0.12033124, 0.11951209, 0.11946391, 0.12005589, 0.11832812,\n",
       "       0.11889946, 0.11960158, 0.12026928, 0.1207236 , 0.1201385 ,\n",
       "       0.12116414, 0.12053086, 0.12002148, 0.11894764, 0.11878244,\n",
       "       0.11819045, 0.11661412, 0.12025552, 0.11969795, 0.1198012 ,\n",
       "       0.11926429, 0.120345  , 0.11962911, 0.11976679, 0.11918857,\n",
       "       0.11861035, 0.11991822, 0.1206823 , 0.11885127, 0.12145325,\n",
       "       0.12020733, 0.11991134, 0.11849333, 0.11981497, 0.11947079,\n",
       "       0.12097141, 0.11980809, 0.11989069, 0.11952586, 0.12047579,\n",
       "       0.11910597, 0.11924364, 0.12069606, 0.1191748 , 0.1191748 ,\n",
       "       0.11930559, 0.1185484 , 0.11951209, 0.12059281, 0.12070983,\n",
       "       0.12042761, 0.11864477, 0.11982185, 0.12011785, 0.12053774,\n",
       "       0.1182111 , 0.11872737, 0.11852086, 0.1197186 , 0.11962223,\n",
       "       0.11970483, 0.11882374, 0.12013161, 0.11783939, 0.12058593,\n",
       "       0.11990446, 0.11924364, 0.11996641, 0.11912662, 0.11891323,\n",
       "       0.12070295, 0.11876179, 0.1196773 , 0.11971172, 0.12003524,\n",
       "       0.11979432, 0.11891323, 0.12024175, 0.12027617, 0.12052398,\n",
       "       0.11984939, 0.11787381, 0.11964288, 0.11992511, 0.11988381,\n",
       "       0.11920233, 0.12023487, 0.11892011, 0.12051709, 0.11919545,\n",
       "       0.11880309, 0.11827306, 0.11872049, 0.12061346, 0.11962223,\n",
       "       0.11949144, 0.12000083, 0.12103336, 0.12130182, 0.12016603,\n",
       "       0.11898206, 0.11946391, 0.11869295, 0.11930559, 0.11971172,\n",
       "       0.11989757, 0.11980809, 0.11938819, 0.11896141, 0.12053774,\n",
       "       0.12059969, 0.11874802, 0.11984939, 0.11942949, 0.11892011,\n",
       "       0.1206823 , 0.11981497, 0.12064788, 0.11964977, 0.12036565,\n",
       "       0.12022798, 0.11910597, 0.120345  , 0.12040007, 0.12067541,\n",
       "       0.11969107, 0.12013161, 0.11895453, 0.12068918, 0.11969107])"
      ]
     },
     "execution_count": 36,
     "metadata": {},
     "output_type": "execute_result"
    }
   ],
   "source": [
    "old_page_converted"
   ]
  },
  {
   "cell_type": "code",
   "execution_count": 37,
   "metadata": {},
   "outputs": [],
   "source": [
    "p_diffs = new_page_converted - old_page_converted"
   ]
  },
  {
   "cell_type": "code",
   "execution_count": 38,
   "metadata": {},
   "outputs": [
    {
     "data": {
      "text/plain": [
       "-4.535996249705274e-05"
      ]
     },
     "execution_count": 38,
     "metadata": {},
     "output_type": "execute_result"
    }
   ],
   "source": [
    "p_diffs.mean()"
   ]
  },
  {
   "cell_type": "code",
   "execution_count": 42,
   "metadata": {},
   "outputs": [
    {
     "data": {
      "text/plain": [
       "-0.0015782389853555567"
      ]
     },
     "execution_count": 42,
     "metadata": {},
     "output_type": "execute_result"
    }
   ],
   "source": [
    "ab_data_diff = df2_treatment['converted'].mean() - df2_control['converted'].mean()\n",
    "ab_data_diff"
   ]
  },
  {
   "cell_type": "code",
   "execution_count": 43,
   "metadata": {},
   "outputs": [
    {
     "data": {
      "text/plain": [
       "90.60000000000001"
      ]
     },
     "execution_count": 43,
     "metadata": {},
     "output_type": "execute_result"
    }
   ],
   "source": [
    "# How many times is the difference created by chance greather than the actual difference\n",
    "\n",
    "(p_diffs > ab_data_diff).mean() * 100"
   ]
  },
  {
   "cell_type": "code",
   "execution_count": 44,
   "metadata": {},
   "outputs": [
    {
     "data": {
      "text/plain": [
       "9.4"
      ]
     },
     "execution_count": 44,
     "metadata": {},
     "output_type": "execute_result"
    }
   ],
   "source": [
    "# How many times is the difference created by chance less than the actual difference\n",
    "# If it was below 5%(Treshold), we say that the new purchase significantly reduced purchases\n",
    "# Otherwise, the differences may have been based on chance (i.e., we did not reach the conclusion that the new design reduces sales)\n",
    "\n",
    "(p_diffs < ab_data_diff).mean() * 100"
   ]
  },
  {
   "cell_type": "code",
   "execution_count": 45,
   "metadata": {},
   "outputs": [
    {
     "data": {
      "text/plain": [
       "<matplotlib.lines.Line2D at 0x707f29aba210>"
      ]
     },
     "execution_count": 45,
     "metadata": {},
     "output_type": "execute_result"
    },
    {
     "data": {
      "image/png": "[encoded data removed]",
      "text/plain": [
       "<Figure size 640x480 with 1 Axes>"
      ]
     },
     "metadata": {},
     "output_type": "display_data"
    }
   ],
   "source": [
    "from turtle import color\n",
    "\n",
    "\n",
    "plt.hist(p_diffs, bins=100)\n",
    "low = ab_data_diff\n",
    "hight = p_diffs.mean()\n",
    "plt.axvline(x=low, color='g')\n",
    "plt.axvline(x=hight, color='r')"
   ]
  },
  {
   "cell_type": "code",
   "execution_count": null,
   "metadata": {},
   "outputs": [],
   "source": []
  }
 ],
 "metadata": {
  "kernelspec": {
   "display_name": "base",
   "language": "python",
   "name": "python3"
  },
  "language_info": {
   "codemirror_mode": {
    "name": "ipython",
    "version": 3
   },
   "file_extension": ".py",
   "mimetype": "text/x-python",
   "name": "python",
   "nbconvert_exporter": "python",
   "pygments_lexer": "ipython3",
   "version": "3.11.4"
  }
 },
 "nbformat": 4,
 "nbformat_minor": 2
}
